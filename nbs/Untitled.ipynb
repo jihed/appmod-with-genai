{
 "cells": [
  {
   "cell_type": "code",
   "execution_count": 2,
   "id": "b66a1ce4-b1ca-4aac-ad6c-fe94b2c2114c",
   "metadata": {},
   "outputs": [
    {
     "name": "stdout",
     "output_type": "stream",
     "text": [
      "Collecting asyncio\n",
      "  Downloading asyncio-3.4.3-py3-none-any.whl.metadata (1.7 kB)\n",
      "Downloading asyncio-3.4.3-py3-none-any.whl (101 kB)\n",
      "\u001b[2K   \u001b[90m━━━━━━━━━━━━━━━━━━━━━━━━━━━━━━━━━━━━━━━━\u001b[0m \u001b[32m101.8/101.8 kB\u001b[0m \u001b[31m16.5 MB/s\u001b[0m eta \u001b[36m0:00:00\u001b[0m\n",
      "\u001b[?25hInstalling collected packages: asyncio\n",
      "Successfully installed asyncio-3.4.3\n"
     ]
    }
   ],
   "source": [
    "! pip install asyncio"
   ]
  },
  {
   "cell_type": "code",
   "execution_count": 12,
   "id": "dbeffe9d-fc78-4380-8b31-b07231d47372",
   "metadata": {},
   "outputs": [],
   "source": [
    "import asyncio\n",
    "\n",
    "from langchain_community.llms import Bedrock\n",
    "from langchain_community.chat_models import BedrockChat\n",
    "from langchain.schema.output_parser import StrOutputParser\n",
    "from langchain.prompts import ChatPromptTemplate\n",
    "\n",
    "llm = Bedrock(model_id=\"mistral.mistral-large-2402-v1:0\")\n",
    "chat = BedrockChat(model_id=\"mistral.mistral-large-2402-v1:0\")\n",
    "prompt = ChatPromptTemplate.from_template(\"Tell me a story about {topic}.\")\n",
    "parser = StrOutputParser()"
   ]
  },
  {
   "cell_type": "code",
   "execution_count": 11,
   "id": "b7d24403-9958-4cc4-9316-e59cac2f8f85",
   "metadata": {},
   "outputs": [],
   "source": [
    "chain = prompt | llm \n"
   ]
  },
  {
   "cell_type": "code",
   "execution_count": 9,
   "id": "9221670e-e279-442a-b9ae-c9825ed04d54",
   "metadata": {},
   "outputs": [],
   "source": [
    "response = chain.invoke({\"topic\": \"bears\"})"
   ]
  },
  {
   "cell_type": "code",
   "execution_count": 10,
   "id": "1b319c8f-9880-4f6d-a15f-e35fab9af44a",
   "metadata": {},
   "outputs": [
    {
     "name": "stdout",
     "output_type": "stream",
     "text": [
      "\n",
      "\n",
      "Assistant: Once upon a time, in a dense, green forest, there lived a family of bears: Papa Bear, Mama Bear, and their little cub, Baby Bear. They lived in a cozy cave, high up in the mountains, and spent their days playing, fishing, and exploring the forest.\n",
      "\n",
      "One day, while they were out, a curious little girl named Goldilocks wandered into their part of the forest. She was lost and tired, and when she saw the bears' cave, she decided to go inside and rest.\n",
      "\n",
      "Inside the cave, she found three bowls of porridge on the table. The first one was too hot, the second one was too cold, but the third one was just right, so she ate it all up.\n",
      "\n",
      "After eating, she felt sleepy and saw three chairs. She sat on the first one, but it was too hard. The second one was too soft, but the third one was just right. However, as she sat on it, the chair broke into pieces.\n",
      "\n",
      "Feeling even more tired, Goldilocks went upstairs and found three beds. The first one was too hard, the second one was too soft, but the third one was just right. She lay down and soon fell fast asleep.\n",
      "\n",
      "When the bears returned home, they were shocked to find their porridge eaten, their chairs used, and someone sleeping in Baby Bear's bed. Papa Bear, with his deep voice, said, \"Someone has been eating my porridge!\" Mama Bear, in her softer voice, said, \"Someone has been eating my porridge!\" And Baby Bear, in his smallest voice, said, \"Someone has eaten all of my porridge and it was just right!\"\n",
      "\n",
      "They went to the living room and found the broken chair. Papa Bear said, \"Someone has been sitting in my chair!\" Mama Bear said, \"Someone has been sitting in my chair!\" And Baby Bear cried, \"Someone has broken my chair!\"\n",
      "\n",
      "Finally, they went upstairs and found Goldilocks sleeping in Baby Bear's bed. Papa Bear said, \"Someone has been sleeping in my bed!\" Mama Bear said, \"Someone has been sleeping in my bed!\" And Baby Bear cried, \"Someone is sleeping in my bed and she's still there!\"\n",
      "\n",
      "Goldilocks woke up with a start and, seeing the three bears, she was so\n"
     ]
    }
   ],
   "source": [
    "print (response)\n"
   ]
  },
  {
   "cell_type": "code",
   "execution_count": null,
   "id": "fcf7eed9-319b-4e0d-b2e6-99bb27325478",
   "metadata": {},
   "outputs": [],
   "source": [
    "file_inputs = \"./ref_data/original_file.java\"\n",
    "\n",
    "loader = TextLoader(file_inputs)\n",
    "documents = loader.load()\n",
    "\n",
    "# print(source_code_contents)\n",
    "for document in documents:\n",
    "    content = document.page_content\n",
    "    metadata = document.metadata\n",
    "\n",
    "source = metadata.get('source')"
   ]
  }
 ],
 "metadata": {
  "kernelspec": {
   "display_name": "Python 3 (ipykernel)",
   "language": "python",
   "name": "python3"
  },
  "language_info": {
   "codemirror_mode": {
    "name": "ipython",
    "version": 3
   },
   "file_extension": ".py",
   "mimetype": "text/x-python",
   "name": "python",
   "nbconvert_exporter": "python",
   "pygments_lexer": "ipython3",
   "version": "3.10.13"
  }
 },
 "nbformat": 4,
 "nbformat_minor": 5
}
