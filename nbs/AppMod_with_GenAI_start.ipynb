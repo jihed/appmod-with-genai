{
 "cells": [
  {
   "cell_type": "code",
   "execution_count": 242,
   "id": "0c1744fa-4f4a-4736-9e37-e4791e4094a7",
   "metadata": {},
   "outputs": [],
   "source": [
    "import json\n",
    "import os\n",
    "import sys\n",
    "\n",
    "import boto3\n",
    "import asyncio\n",
    "from typing import List\n",
    "\n",
    "from langchain_community.llms import Bedrock\n",
    "from langchain_community.chat_models import BedrockChat\n",
    "\n",
    "from langchain.prompts import ChatPromptTemplate, PromptTemplate\n",
    "\n",
    "from langchain.output_parsers import ResponseSchema, StructuredOutputParser\n",
    "from langchain_core.pydantic_v1 import BaseModel, Field, validator\n",
    "#from langchain_community.document_loaders import TextLoader\n",
    "from langchain_community.document_loaders import GithubFileLoader\n",
    "from langchain_core.runnables import RunnablePassthrough\n",
    "\n",
    "\n",
    "model_id = \"mistral.mistral-large-2402-v1:0\"\n",
    "\n",
    "model_kwargs =  { \n",
    "    \"max_tokens\": 6000\n",
    "}\n",
    "\n",
    "bedrock_runtime = boto3.client('bedrock-runtime')\n",
    "\n",
    "llm = BedrockChat(\n",
    "    client=bedrock_runtime,\n",
    "    model_id=model_id,\n",
    ")\n",
    "\n",
    "chat = BedrockChat(model_id=model_id)"
   ]
  },
  {
   "cell_type": "code",
   "execution_count": 48,
   "id": "96b4f644-47be-4690-ac45-457baf6874ab",
   "metadata": {},
   "outputs": [
    {
     "name": "stdout",
     "output_type": "stream",
     "text": [
      "Requirement already satisfied: asyncio in /opt/conda/lib/python3.10/site-packages (3.4.3)\n"
     ]
    }
   ],
   "source": [
    "! pip install asyncio\n",
    "# parser = StrOutputParser()"
   ]
  },
  {
   "cell_type": "code",
   "execution_count": 57,
   "id": "20caa056-88c1-4a8d-95d9-5db51d8a54c7",
   "metadata": {},
   "outputs": [],
   "source": [
    "response_schemas = [\n",
    "    ResponseSchema(name=\"Output\", description=\"modernize and generate the code in java format\"),\n",
    "]\n",
    "output_parser = StructuredOutputParser.from_response_schemas(response_schemas)"
   ]
  },
  {
   "cell_type": "code",
   "execution_count": 154,
   "id": "f1af9c33-c5cc-477a-b4aa-e0d49ce1fca6",
   "metadata": {},
   "outputs": [],
   "source": [
    "format_instructions = output_parser.get_format_instructions()\n",
    "\n",
    "prompt = PromptTemplate(\n",
    "    template=\"You are a software architect, answer the users question as best as possible.\\n{format_instructions}\\n{question}\",\n",
    "    input_variables=[\"question\"],\n",
    "    partial_variables={\"format_instructions\": format_instructions},\n",
    ")\n",
    "\n",
    "#print (format_instructions)"
   ]
  },
  {
   "cell_type": "code",
   "execution_count": 111,
   "id": "67cef998-570f-4e76-abc6-ffc2bf0246fb",
   "metadata": {},
   "outputs": [
    {
     "name": "stdin",
     "output_type": "stream",
     "text": [
      " ········\n"
     ]
    }
   ],
   "source": [
    "# If you haven't set your access token as an environment variable, pass it in here.\n",
    "from getpass import getpass\n",
    "\n",
    "ACCESS_TOKEN = getpass()\n"
   ]
  },
  {
   "cell_type": "code",
   "execution_count": 124,
   "id": "0e89eb5a-f2bd-4d17-9216-d8522280a169",
   "metadata": {},
   "outputs": [],
   "source": [
    "loader = GithubFileLoader(\n",
    "    repo=\"jihed/helloworld-mdb\",\n",
    "    access_token=ACCESS_TOKEN,  # delete/comment out this argument if you've set the access token as an env var.\n",
    "    github_api_url=\"https://api.github.com\",\n",
    "    file_filter=lambda file_path: file_path.endswith(\n",
    "        \".java\"\n",
    "    ),  # load all markdowns files.\n",
    ")"
   ]
  },
  {
   "cell_type": "code",
   "execution_count": 130,
   "id": "1147b1ec-2a24-4310-9881-744f6d39f57b",
   "metadata": {},
   "outputs": [],
   "source": [
    "documents = loader.load()"
   ]
  },
  {
   "cell_type": "code",
   "execution_count": 151,
   "id": "10082ed4-259f-4025-ab86-e07baca04ecb",
   "metadata": {},
   "outputs": [
    {
     "name": "stdout",
     "output_type": "stream",
     "text": [
      "{'path': 'src/main/java/org/jboss/as/quickstarts/mdb/HelloWorldQueueMDB.java', 'sha': '560f22a0aafcda739097cb38e8ddc787a8c2e9ce', 'source': 'https://api.github.com/jihed/helloworld-mdb/blob/main/src/main/java/org/jboss/as/quickstarts/mdb/HelloWorldQueueMDB.java'}\n",
      "{'path': 'src/main/java/org/jboss/as/quickstarts/mdb/HelloWorldTopicMDB.java', 'sha': 'acd7de34f25785bb5c8d9a8cb9068e71ea9e0a4b', 'source': 'https://api.github.com/jihed/helloworld-mdb/blob/main/src/main/java/org/jboss/as/quickstarts/mdb/HelloWorldTopicMDB.java'}\n",
      "{'path': 'src/main/java/org/jboss/as/quickstarts/servlet/HelloWorldMDBServletClient.java', 'sha': '095d3097a8e6f6edbd500e991ddac71ef0914ff8', 'source': 'https://api.github.com/jihed/helloworld-mdb/blob/main/src/main/java/org/jboss/as/quickstarts/servlet/HelloWorldMDBServletClient.java'}\n"
     ]
    }
   ],
   "source": [
    "for document in documents:\n",
    "    print(document.metadata)\n"
   ]
  },
  {
   "cell_type": "code",
   "execution_count": 214,
   "id": "74306f0b-524d-402d-820e-81f7c8493203",
   "metadata": {},
   "outputs": [],
   "source": [
    "!pip install -qU langchain-text-splitters"
   ]
  },
  {
   "cell_type": "code",
   "execution_count": 224,
   "id": "cf743496-98f8-401f-945b-332a479fd7c5",
   "metadata": {},
   "outputs": [
    {
     "data": {
      "text/plain": [
       "['cpp',\n",
       " 'go',\n",
       " 'java',\n",
       " 'kotlin',\n",
       " 'js',\n",
       " 'ts',\n",
       " 'php',\n",
       " 'proto',\n",
       " 'python',\n",
       " 'rst',\n",
       " 'ruby',\n",
       " 'rust',\n",
       " 'scala',\n",
       " 'swift',\n",
       " 'markdown',\n",
       " 'latex',\n",
       " 'html',\n",
       " 'sol',\n",
       " 'csharp',\n",
       " 'cobol',\n",
       " 'c',\n",
       " 'lua',\n",
       " 'perl']"
      ]
     },
     "execution_count": 224,
     "metadata": {},
     "output_type": "execute_result"
    }
   ],
   "source": [
    "# Full list of supported languages\n",
    "[e.value for e in Language]"
   ]
  },
  {
   "cell_type": "code",
   "execution_count": 226,
   "id": "fd713d6b-1abf-4075-9d54-dda1955e7666",
   "metadata": {},
   "outputs": [
    {
     "data": {
      "text/plain": [
       "['\\nclass ',\n",
       " '\\npublic ',\n",
       " '\\nprotected ',\n",
       " '\\nprivate ',\n",
       " '\\nstatic ',\n",
       " '\\nif ',\n",
       " '\\nfor ',\n",
       " '\\nwhile ',\n",
       " '\\nswitch ',\n",
       " '\\ncase ',\n",
       " '\\n\\n',\n",
       " '\\n',\n",
       " ' ',\n",
       " '']"
      ]
     },
     "execution_count": 226,
     "metadata": {},
     "output_type": "execute_result"
    }
   ],
   "source": [
    "RecursiveCharacterTextSplitter.get_separators_for_language(Language.JAVA)"
   ]
  },
  {
   "cell_type": "code",
   "execution_count": null,
   "id": "b266c071-0ef7-4ca8-8401-6e3c9d059ff5",
   "metadata": {},
   "outputs": [],
   "source": []
  },
  {
   "cell_type": "code",
   "execution_count": 319,
   "id": "a3385463-05f9-4e63-a40e-d6b421c26451",
   "metadata": {},
   "outputs": [
    {
     "name": "stdout",
     "output_type": "stream",
     "text": [
      "\n",
      "\n",
      "# Migrating from Enterprise Java EE to Quarkus\n",
      "\n",
      "Quarkus is a Kubernetes Native Java stack tailored for OpenJDK HotSpot and GraalVM, crafted from the best of breed Java libraries and standards. Here is a step-by-step guide to migrate your Enterprise Java EE application to Quarkus.\n",
      "\n",
      "## Prerequisites\n",
      "\n",
      "- Basic understanding of Java and Java EE concepts\n",
      "- Java Development Kit (JDK) installed on your system\n",
      "- Apache Maven or Gradle build tool installed on your system\n",
      "- Quarkus CLI installed on your system\n",
      "\n",
      "## Step 1: Create a new Quarkus project\n",
      "\n",
      "First, you need to create a new Quarkus project. You can do this using the Quarkus CLI or your build tool.\n",
      "\n",
      "Using Quarkus CLI:\n",
      "\n",
      "```bash\n",
      "quarkus create app --name=my-quarkus-app\n",
      "```\n",
      "\n",
      "Using Maven:\n",
      "\n",
      "```bash\n",
      "mvn io.quarkus:quarkus-maven-plugin:1.13.3.Final:create \\\n",
      "    -DprojectGroupId=org.acme \\\n",
      "    -DprojectArtifactId=my-quarkus-app \\\n",
      "    -DclassName=\"org.acme.QuickstartResource\" \\\n",
      "    -Dpath=\"/hello\"\n",
      "```\n",
      "\n",
      "Using Gradle:\n",
      "\n",
      "```bash\n",
      "./gradlew createApp --name=my-quarkus-app\n",
      "```\n",
      "\n",
      "## Step 2: Add dependencies\n",
      "\n",
      "Next, you need to add the necessary dependencies to your project. For example, if you are using Maven, you can add the following dependencies to your `pom.xml` file:\n",
      "\n",
      "```xml\n",
      "<dependency>\n",
      "    <groupId>io.quarkus</groupId>\n",
      "    <artifactId>quarkus-resteasy</artifactId>\n",
      "</dependency>\n",
      "<dependency>\n",
      "    <groupId>io.quarkus</groupId>\n",
      "    <artifactId>quarkus-arc</artifactId>\n",
      "</dependency>\n",
      "<dependency>\n",
      "    <groupId>io.quarkus</groupId>\n",
      "    <artifactId>\n"
     ]
    }
   ],
   "source": [
    "from langchain_core.documents import Document\n",
    "from langchain_core.prompts import ChatPromptTemplate\n",
    "from langchain.chains.combine_documents import create_stuff_documents_chain\n",
    "\n",
    "prompt = ChatPromptTemplate.from_messages(\n",
    "    [(\"system\", \"Generate for me a step by step guide in mardown format to migrate all the documents in context written in enterprise Java EE source code to Quarkus:\\n\\n{context}\")]\n",
    ")\n",
    "chain = create_stuff_documents_chain(llm, prompt)\n",
    "document = Document(page_content=documents[0].page_content)\n",
    "\n",
    "response = chain.invoke({\"context\": documents})\n",
    "\n",
    "print(response, end= '\\n')"
   ]
  },
  {
   "cell_type": "code",
   "execution_count": 259,
   "id": "4ab39c5e-f6d2-436c-935b-797da142f6cf",
   "metadata": {},
   "outputs": [],
   "source": [
    "from langchain.chains import RefineDocumentsChain, LLMChain\n",
    "from langchain_core.prompts import PromptTemplate\n",
    "\n",
    "# This controls how each document will be formatted. Specifically,\n",
    "# it will be passed to `format_document` - see that function for more\n",
    "# details.\n",
    "document_prompt = PromptTemplate(\n",
    "    input_variables=[\"page_content\"],\n",
    "     template=\"{page_content}\"\n",
    ")\n",
    "document_variable_name = \"context\"\n",
    "\n",
    "# The prompt here should take as an input variable the\n",
    "# `document_variable_name`\n",
    "prompt = PromptTemplate.from_template(\n",
    "    \"Migrate this content: {context} from Java Entreprise to Quarkus\"\n",
    ")\n",
    "initial_llm_chain = LLMChain(llm=llm, prompt=prompt)\n",
    "initial_response_name = \"prev_response\"\n",
    "# The prompt here should take as an input variable the\n",
    "# `document_variable_name` as well as `initial_response_name`\n",
    "prompt_refine = PromptTemplate.from_template(\n",
    "    \"Here's your Migration Plan: {prev_response}. \"\n",
    "    \"Now generate a quarkus code for: {context}\"\n",
    ")\n",
    "refine_llm_chain = LLMChain(llm=llm, prompt=prompt_refine)\n",
    "chain = RefineDocumentsChain(\n",
    "    initial_llm_chain=initial_llm_chain,\n",
    "    refine_llm_chain=refine_llm_chain,\n",
    "    document_prompt=document_prompt,\n",
    "    document_variable_name=document_variable_name,\n",
    "    initial_response_name=initial_response_name,\n",
    ")\n",
    "\n",
    "\n",
    "\n",
    "response = chain.invoke(documents)\n",
    "\n"
   ]
  },
  {
   "cell_type": "code",
   "execution_count": 306,
   "id": "76a962db-1e21-45dc-a836-13478406c5ea",
   "metadata": {},
   "outputs": [
    {
     "ename": "TypeError",
     "evalue": "get expected at least 1 argument, got 0",
     "output_type": "error",
     "traceback": [
      "\u001b[0;31m---------------------------------------------------------------------------\u001b[0m",
      "\u001b[0;31mTypeError\u001b[0m                                 Traceback (most recent call last)",
      "Cell \u001b[0;32mIn[306], line 1\u001b[0m\n\u001b[0;32m----> 1\u001b[0m \u001b[38;5;28mprint\u001b[39m(\u001b[43mresponse\u001b[49m\u001b[38;5;241;43m.\u001b[39;49m\u001b[43mget\u001b[49m\u001b[43m(\u001b[49m\u001b[43m)\u001b[49m)\n",
      "\u001b[0;31mTypeError\u001b[0m: get expected at least 1 argument, got 0"
     ]
    }
   ],
   "source": [
    "print(response.get())"
   ]
  },
  {
   "cell_type": "code",
   "execution_count": 313,
   "id": "0316ce4f-e857-4796-8b36-3bb435e3e3d0",
   "metadata": {},
   "outputs": [
    {
     "name": "stdout",
     "output_type": "stream",
     "text": [
      "dict_keys(['input_documents', 'output_text'])\n"
     ]
    }
   ],
   "source": [
    "keys = response.keys()\n",
    "print (keys)"
   ]
  },
  {
   "cell_type": "code",
   "execution_count": 318,
   "id": "580616fa-43b1-417d-a1aa-00a0af088df0",
   "metadata": {},
   "outputs": [
    {
     "name": "stdout",
     "output_type": "stream",
     "text": [
      "[Document(page_content='/*\\n * JBoss, Home of Professional Open Source\\n * Copyright 2015, Red Hat, Inc. and/or its affiliates, and individual\\n * contributors by the @authors tag. See the copyright.txt in the\\n * distribution for a full listing of individual contributors.\\n *\\n * Licensed under the Apache License, Version 2.0 (the \"License\");\\n * you may not use this file except in compliance with the License.\\n * You may obtain a copy of the License at\\n * http://www.apache.org/licenses/LICENSE-2.0\\n * Unless required by applicable law or agreed to in writing, software\\n * distributed under the License is distributed on an \"AS IS\" BASIS,\\n * WITHOUT WARRANTIES OR CONDITIONS OF ANY KIND, either express or implied.\\n * See the License for the specific language governing permissions and\\n * limitations under the License.\\n */\\npackage org.jboss.as.quickstarts.mdb;\\n\\nimport java.util.logging.Logger;\\nimport javax.ejb.ActivationConfigProperty;\\nimport javax.ejb.MessageDriven;\\nimport javax.jms.JMSException;\\nimport javax.jms.Message;\\nimport javax.jms.MessageListener;\\nimport javax.jms.TextMessage;\\n\\n/**\\n * <p>\\n * A simple Message Driven Bean that asynchronously receives and processes the messages that are sent to the queue.\\n * </p>\\n *\\n * @author Serge Pagop (spagop@redhat.com)\\n */\\n@MessageDriven(name = \"HelloWorldQueueMDB\", activationConfig = {\\n        @ActivationConfigProperty(propertyName = \"destinationLookup\", propertyValue = \"queue/HELLOWORLDMDBQueue\"),\\n        @ActivationConfigProperty(propertyName = \"destinationType\", propertyValue = \"javax.jms.Queue\"),\\n        @ActivationConfigProperty(propertyName = \"acknowledgeMode\", propertyValue = \"Auto-acknowledge\")})\\npublic class HelloWorldQueueMDB implements MessageListener {\\n\\n    private static final Logger LOGGER = Logger.getLogger(HelloWorldQueueMDB.class.toString());\\n\\n    /**\\n     * @see MessageListener#onMessage(Message)\\n     */\\n    public void onMessage(Message rcvMessage) {\\n        TextMessage msg = null;\\n        try {\\n            if (rcvMessage instanceof TextMessage) {\\n                msg = (TextMessage) rcvMessage;\\n                LOGGER.info(\"Received Message from queue: \" + msg.getText());\\n            } else {\\n                LOGGER.warning(\"Message of wrong type: \" + rcvMessage.getClass().getName());\\n            }\\n        } catch (JMSException e) {\\n            throw new RuntimeException(e);\\n        }\\n    }\\n}\\n', metadata={'path': 'src/main/java/org/jboss/as/quickstarts/mdb/HelloWorldQueueMDB.java', 'sha': '560f22a0aafcda739097cb38e8ddc787a8c2e9ce', 'source': 'https://api.github.com/jihed/helloworld-mdb/blob/main/src/main/java/org/jboss/as/quickstarts/mdb/HelloWorldQueueMDB.java'}), Document(page_content='/*\\n * JBoss, Home of Professional Open Source\\n * Copyright 2015, Red Hat, Inc. and/or its affiliates, and individual\\n * contributors by the @authors tag. See the copyright.txt in the\\n * distribution for a full listing of individual contributors.\\n *\\n * Licensed under the Apache License, Version 2.0 (the \"License\");\\n * you may not use this file except in compliance with the License.\\n * You may obtain a copy of the License at\\n * http://www.apache.org/licenses/LICENSE-2.0\\n * Unless required by applicable law or agreed to in writing, software\\n * distributed under the License is distributed on an \"AS IS\" BASIS,\\n * WITHOUT WARRANTIES OR CONDITIONS OF ANY KIND, either express or implied.\\n * See the License for the specific language governing permissions and\\n * limitations under the License.\\n */\\npackage org.jboss.as.quickstarts.mdb;\\n\\nimport java.util.logging.Logger;\\nimport javax.ejb.ActivationConfigProperty;\\nimport javax.ejb.MessageDriven;\\nimport javax.jms.JMSException;\\nimport javax.jms.Message;\\nimport javax.jms.MessageListener;\\nimport javax.jms.TextMessage;\\n\\n/**\\n * <p>\\n * A simple Message Driven Bean that asynchronously receives and processes the messages that are sent to the topic.\\n * </p>\\n *\\n * @author Serge Pagop (spagop@redhat.com)\\n */\\n@MessageDriven(name = \"HelloWorldQTopicMDB\", activationConfig = {\\n        @ActivationConfigProperty(propertyName = \"destinationLookup\", propertyValue = \"topic/HELLOWORLDMDBTopic\"),\\n        @ActivationConfigProperty(propertyName = \"destinationType\", propertyValue = \"javax.jms.Topic\"),\\n        @ActivationConfigProperty(propertyName = \"acknowledgeMode\", propertyValue = \"Auto-acknowledge\")})\\npublic class HelloWorldTopicMDB implements MessageListener {\\n\\n    private static final Logger LOGGER = Logger.getLogger(HelloWorldTopicMDB.class.toString());\\n\\n    /**\\n     * @see MessageListener#onMessage(Message)\\n     */\\n    public void onMessage(Message rcvMessage) {\\n        TextMessage msg = null;\\n        try {\\n            if (rcvMessage instanceof TextMessage) {\\n                msg = (TextMessage) rcvMessage;\\n                LOGGER.info(\"Received Message from topic: \" + msg.getText());\\n            } else {\\n                LOGGER.warning(\"Message of wrong type: \" + rcvMessage.getClass().getName());\\n            }\\n        } catch (JMSException e) {\\n            throw new RuntimeException(e);\\n        }\\n    }\\n}\\n', metadata={'path': 'src/main/java/org/jboss/as/quickstarts/mdb/HelloWorldTopicMDB.java', 'sha': 'acd7de34f25785bb5c8d9a8cb9068e71ea9e0a4b', 'source': 'https://api.github.com/jihed/helloworld-mdb/blob/main/src/main/java/org/jboss/as/quickstarts/mdb/HelloWorldTopicMDB.java'}), Document(page_content='/*\\n * JBoss, Home of Professional Open Source\\n * Copyright 2015, Red Hat, Inc. and/or its affiliates, and individual\\n * contributors by the @authors tag. See the copyright.txt in the\\n * distribution for a full listing of individual contributors.\\n *\\n * Licensed under the Apache License, Version 2.0 (the \"License\");\\n * you may not use this file except in compliance with the License.\\n * You may obtain a copy of the License at\\n * http://www.apache.org/licenses/LICENSE-2.0\\n * Unless required by applicable law or agreed to in writing, software\\n * distributed under the License is distributed on an \"AS IS\" BASIS,\\n * WITHOUT WARRANTIES OR CONDITIONS OF ANY KIND, either express or implied.\\n * See the License for the specific language governing permissions and\\n * limitations under the License.\\n */\\npackage org.jboss.as.quickstarts.servlet;\\n\\nimport java.io.IOException;\\nimport java.io.PrintWriter;\\n\\nimport javax.annotation.Resource;\\nimport javax.inject.Inject;\\nimport javax.jms.Destination;\\nimport javax.jms.JMSContext;\\nimport javax.jms.JMSDestinationDefinition;\\nimport javax.jms.JMSDestinationDefinitions;\\nimport javax.jms.Queue;\\nimport javax.jms.Topic;\\nimport javax.servlet.ServletException;\\nimport javax.servlet.annotation.WebServlet;\\nimport javax.servlet.http.HttpServlet;\\nimport javax.servlet.http.HttpServletRequest;\\nimport javax.servlet.http.HttpServletResponse;\\n\\n/**\\n * Definition of the two JMS destinations used by the quickstart\\n * (one queue and one topic).\\n */\\n@JMSDestinationDefinitions(\\n    value = {\\n        @JMSDestinationDefinition(\\n            name = \"java:/queue/HELLOWORLDMDBQueue\",\\n            interfaceName = \"javax.jms.Queue\",\\n            destinationName = \"HelloWorldMDBQueue\"\\n        ),\\n        @JMSDestinationDefinition(\\n            name = \"java:/topic/HELLOWORLDMDBTopic\",\\n            interfaceName = \"javax.jms.Topic\",\\n            destinationName = \"HelloWorldMDBTopic\"\\n        )\\n    }\\n)\\n\\n/**\\n * <p>\\n * A simple servlet 3 as client that sends several messages to a queue or a topic.\\n * </p>\\n *\\n * <p>\\n * The servlet is registered and mapped to /HelloWorldMDBServletClient using the {@linkplain WebServlet\\n * @HttpServlet}.\\n * </p>\\n *\\n * @author Serge Pagop (spagop@redhat.com)\\n *\\n */\\n@WebServlet(\"/HelloWorldMDBServletClient\")\\npublic class HelloWorldMDBServletClient extends HttpServlet {\\n\\n    private static final long serialVersionUID = -8314035702649252239L;\\n\\n    private static final int MSG_COUNT = 5;\\n\\n    @Inject\\n    private JMSContext context;\\n\\n    @Resource(lookup = \"java:/queue/HELLOWORLDMDBQueue\")\\n    private Queue queue;\\n\\n    @Resource(lookup = \"java:/topic/HELLOWORLDMDBTopic\")\\n    private Topic topic;\\n\\n    @Override\\n    protected void doGet(HttpServletRequest req, HttpServletResponse resp) throws ServletException, IOException {\\n        resp.setContentType(\"text/html\");\\n        PrintWriter out = resp.getWriter();\\n        out.write(\"<h1>Quickstart: Example demonstrates the use of <strong>JMS 2.0</strong> and <strong>EJB 3.2 Message-Driven Bean</strong> in JBoss EAP.</h1>\");\\n        try {\\n            boolean useTopic = req.getParameterMap().keySet().contains(\"topic\");\\n            final Destination destination = useTopic ? topic : queue;\\n\\n            out.write(\"<p>Sending messages to <em>\" + destination + \"</em></p>\");\\n            out.write(\"<h2>The following messages will be sent to the destination:</h2>\");\\n            for (int i = 0; i < MSG_COUNT; i++) {\\n                String text = \"This is message \" + (i + 1);\\n                context.createProducer().send(destination, text);\\n                out.write(\"Message (\" + i + \"): \" + text + \"</br>\");\\n            }\\n            out.write(\"<p><i>Go to your JBoss EAP server console or server log to see the result of messages processing.</i></p>\");\\n        } finally {\\n            if (out != null) {\\n                out.close();\\n            }\\n        }\\n    }\\n\\n    protected void doPost(HttpServletRequest req, HttpServletResponse resp) throws ServletException, IOException {\\n        doGet(req, resp);\\n    }\\n}\\n', metadata={'path': 'src/main/java/org/jboss/as/quickstarts/servlet/HelloWorldMDBServletClient.java', 'sha': '095d3097a8e6f6edbd500e991ddac71ef0914ff8', 'source': 'https://api.github.com/jihed/helloworld-mdb/blob/main/src/main/java/org/jboss/as/quickstarts/servlet/HelloWorldMDBServletClient.java'})]\n"
     ]
    }
   ],
   "source": [
    "print (response.get('input_documents'), end= '\\n')"
   ]
  },
  {
   "cell_type": "code",
   "execution_count": 315,
   "id": "4ffc3ed3-4350-40f1-b619-501b4fe245bc",
   "metadata": {},
   "outputs": [
    {
     "name": "stdout",
     "output_type": "stream",
     "text": [
      " To migrate the given Java EE Servlet to Quarkus, you would need to use the Quarkus JMS and RESTEasy frameworks. Here's how you can migrate the code:\n",
      "\n",
      "```java\n",
      "import io.quarkus.jms.JMSDestination;\n",
      "import io.quarkus.jms.JMSProducer;\n",
      "import io.quarkus.qute.Template;\n",
      "import io.quarkus.qute.TemplateInstance;\n",
      "import io.quarkus.qute.Location;\n",
      "import javax.inject.Inject;\n",
      "import javax.jms.Queue;\n",
      "import javax.jms.Topic;\n",
      "import javax.ws.rs.GET;\n",
      "import javax.ws.rs.Path;\n",
      "import javax.ws.rs.Produces;\n",
      "import javax.ws.rs.QueryParam;\n",
      "import javax.ws.rs.core.MediaType;\n",
      "import java.util.List;\n",
      "\n",
      "@Path(\"/hello\")\n",
      "public class HelloWorldMDBServletClient {\n",
      "\n",
      "    private static final int MSG_COUNT = 5;\n",
      "\n",
      "    @Inject\n",
      "    @JMSProducer\n",
      "    javax.jms.JMSContext context;\n",
      "\n",
      "    @Inject\n",
      "    @JMSDestination(\"java:/queue/HELLOWORLDMDBQueue\")\n",
      "    Queue queue;\n",
      "\n",
      "    @Inject\n",
      "    @JMSDestination(\"java:/topic/HELLOWORLDMDBTopic\")\n",
      "    Topic topic;\n",
      "\n",
      "    @Location(\"hello.txt\")\n",
      "    Template hello;\n",
      "\n",
      "    @GET\n",
      "    @Produces(MediaType.TEXT_HTML)\n",
      "    public TemplateInstance hello(@QueryParam(\"topic\") Boolean useTopic) {\n",
      "        final Destination destination = useTopic ? topic : queue;\n",
      "\n",
      "        for (int i = 0; i < MSG_COUNT; i++) {\n",
      "            String text = \"This is message \" + (i + 1);\n",
      "            context.createProducer().send(destination, text);\n",
      "        }\n",
      "\n",
      "        return hello.data(\"destination\", destination);\n",
      "    }\n",
      "}\n",
      "```\n",
      "\n",
      "In this Quarkus version, the `@WebServlet` annotation is replaced by the `@Path` annotation, which is used to define the REST endpoint. The `\n"
     ]
    }
   ],
   "source": [
    "print (response.get('output_text'), end= '\\n')"
   ]
  },
  {
   "cell_type": "code",
   "execution_count": 327,
   "id": "21ead125-f15c-4b46-ac31-4351c7a86628",
   "metadata": {},
   "outputs": [
    {
     "name": "stdout",
     "output_type": "stream",
     "text": [
      "page_content='def hello_world():\\n    print(\"Hello, World!\")'\n"
     ]
    }
   ],
   "source": [
    "from langchain.text_splitter import RecursiveCharacterTextSplitter, Language\n",
    "\n",
    "python_code = \"\"\"\n",
    "def hello_world():\n",
    "    print(\"Hello, World!\")\n",
    "hello_world()\n",
    "\"\"\"\n",
    "\n",
    "python_splitter = RecursiveCharacterTextSplitter.from_language(\n",
    "    language=Language.PYTHON, chunk_size=50, chunk_overlap=0\n",
    ")\n",
    "python_docs = python_splitter.create_documents([python_code])\n",
    "print(python_docs[0])"
   ]
  },
  {
   "cell_type": "code",
   "execution_count": 344,
   "id": "0fdb7820-8f6f-477d-9da6-90912cba6ce4",
   "metadata": {},
   "outputs": [],
   "source": [
    "sample = documents[0].page_content\n",
    "\n",
    "java_splitter = RecursiveCharacterTextSplitter.from_language(\n",
    "    language=Language.JAVA, chunk_size=1000, chunk_overlap=1000\n",
    ")\n",
    "sample_content = splitter.split_documents(documents)\n",
    "#print(sample_content)"
   ]
  },
  {
   "cell_type": "code",
   "execution_count": null,
   "id": "e3d82ea4-4f79-49be-a07f-65e211dfa9d9",
   "metadata": {},
   "outputs": [],
   "source": []
  },
  {
   "cell_type": "code",
   "execution_count": null,
   "id": "8b6c457d-5682-452e-bd74-8f34776439bf",
   "metadata": {},
   "outputs": [],
   "source": []
  }
 ],
 "metadata": {
  "kernelspec": {
   "display_name": "Python 3 (ipykernel)",
   "language": "python",
   "name": "python3"
  },
  "language_info": {
   "codemirror_mode": {
    "name": "ipython",
    "version": 3
   },
   "file_extension": ".py",
   "mimetype": "text/x-python",
   "name": "python",
   "nbconvert_exporter": "python",
   "pygments_lexer": "ipython3",
   "version": "3.10.13"
  }
 },
 "nbformat": 4,
 "nbformat_minor": 5
}
