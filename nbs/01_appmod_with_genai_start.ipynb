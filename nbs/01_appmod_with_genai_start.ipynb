{
 "cells": [
  {
   "cell_type": "code",
   "execution_count": 138,
   "id": "e6e4a613-7743-4ee2-9400-00fcd3db3409",
   "metadata": {},
   "outputs": [],
   "source": [
    "#| default_exp appmod_with_genai"
   ]
  },
  {
   "cell_type": "markdown",
   "id": "4db1d246-36ac-4675-83c1-86c10e706521",
   "metadata": {},
   "source": [
    "# appmod_with_genai -- Accelerate your AppMod journey with GenAI.\n",
    "\n",
    "> Hello Bedrock help me accelerate my Application Modernisation. "
   ]
  },
  {
   "cell_type": "code",
   "execution_count": 135,
   "id": "dfecf45e-4ea1-4bbb-8ff3-f26b63d9f93a",
   "metadata": {},
   "outputs": [],
   "source": [
    "#| hide\n",
    "from nbdev.showdoc import *"
   ]
  },
  {
   "cell_type": "code",
   "execution_count": 136,
   "id": "fbfa6b04-cf05-44e6-9440-38237d4cb63a",
   "metadata": {},
   "outputs": [],
   "source": [
    "#| export\n",
    "def foo(): pass"
   ]
  },
  {
   "cell_type": "code",
   "execution_count": 137,
   "id": "c94b7e02-2b7f-4306-bd64-9ad26b9f85e2",
   "metadata": {},
   "outputs": [],
   "source": [
    "#| hide \n",
    "import nbdev; nbdev.nbdev_export()"
   ]
  },
  {
   "cell_type": "markdown",
   "id": "c96eb058-e66a-4a5b-a08f-913da50c7144",
   "metadata": {},
   "source": [
    " # Introduction\n",
    "> Add later."
   ]
  },
  {
   "cell_type": "code",
   "execution_count": 129,
   "id": "0c1744fa-4f4a-4736-9e37-e4791e4094a7",
   "metadata": {},
   "outputs": [],
   "source": [
    "import json\n",
    "import os\n",
    "import sys\n",
    "\n",
    "import boto3\n",
    "import asyncio\n",
    "from typing import List\n",
    "\n",
    "from langchain_community.llms import Bedrock\n",
    "from langchain_community.chat_models import BedrockChat\n",
    "from langchain.prompts import ChatPromptTemplate, PromptTemplate\n",
    "from langchain_community.document_loaders import GithubFileLoader\n",
    "\n",
    "\n",
    "model_id = \"mistral.mistral-large-2402-v1:0\"\n",
    "\n",
    "\n",
    "bedrock_runtime = boto3.client('bedrock-runtime')\n",
    "\n",
    "llm = BedrockChat(\n",
    "    client=bedrock_runtime,\n",
    "    model_id=model_id,\n",
    ")\n",
    "\n",
    "chat = BedrockChat(model_id=model_id)"
   ]
  },
  {
   "cell_type": "code",
   "execution_count": 121,
   "id": "96b4f644-47be-4690-ac45-457baf6874ab",
   "metadata": {},
   "outputs": [
    {
     "name": "stdout",
     "output_type": "stream",
     "text": [
      "Requirement already satisfied: asyncio in /opt/conda/lib/python3.10/site-packages (3.4.3)\n"
     ]
    }
   ],
   "source": [
    "! pip install asyncio\n",
    "# parser = StrOutputParser()"
   ]
  },
  {
   "cell_type": "code",
   "execution_count": 122,
   "id": "67cef998-570f-4e76-abc6-ffc2bf0246fb",
   "metadata": {},
   "outputs": [
    {
     "name": "stdin",
     "output_type": "stream",
     "text": [
      " ········\n"
     ]
    }
   ],
   "source": [
    "# If you haven't set your access token as an environment variable, pass it in here.\n",
    "from getpass import getpass\n",
    "\n",
    "ACCESS_TOKEN = getpass()\n"
   ]
  },
  {
   "cell_type": "code",
   "execution_count": 124,
   "id": "59d6657f-a4f5-45fd-a8db-7fcdd581f0aa",
   "metadata": {},
   "outputs": [],
   "source": [
    "loader = GithubFileLoader(\n",
    "    repo=\"jihed/helloworld-mdb\",\n",
    "    access_token=ACCESS_TOKEN,  # delete/comment out this argument if you've set the access token as an env var.\n",
    "    branch= \"main\",\n",
    "    github_api_url=\"https://api.github.com\",\n",
    "    file_filter=lambda file_path: file_path.endswith(\n",
    "        \"HelloWorldTopicMDB.java\"\n",
    "    ),  # load all java files.\n",
    ")\n"
   ]
  },
  {
   "cell_type": "code",
   "execution_count": 125,
   "id": "1147b1ec-2a24-4310-9881-744f6d39f57b",
   "metadata": {},
   "outputs": [],
   "source": [
    "sample_source_code= loader.load()"
   ]
  },
  {
   "cell_type": "code",
   "execution_count": 130,
   "id": "cf19f496-c6c2-4a7c-b78a-753292f68643",
   "metadata": {},
   "outputs": [
    {
     "name": "stdout",
     "output_type": "stream",
     "text": [
      "[Document(page_content='/*\\n * JBoss, Home of Professional Open Source\\n * Copyright 2015, Red Hat, Inc. and/or its affiliates, and individual\\n * contributors by the @authors tag. See the copyright.txt in the\\n * distribution for a full listing of individual contributors.\\n *\\n * Licensed under the Apache License, Version 2.0 (the \"License\");\\n * you may not use this file except in compliance with the License.\\n * You may obtain a copy of the License at\\n * http://www.apache.org/licenses/LICENSE-2.0\\n * Unless required by applicable law or agreed to in writing, software\\n * distributed under the License is distributed on an \"AS IS\" BASIS,\\n * WITHOUT WARRANTIES OR CONDITIONS OF ANY KIND, either express or implied.\\n * See the License for the specific language governing permissions and\\n * limitations under the License.\\n */\\npackage org.jboss.as.quickstarts.mdb;\\n\\nimport java.util.logging.Logger;\\nimport javax.ejb.ActivationConfigProperty;\\nimport javax.ejb.MessageDriven;\\nimport javax.jms.JMSException;\\nimport javax.jms.Message;\\nimport javax.jms.MessageListener;\\nimport javax.jms.TextMessage;\\n\\n/**\\n * <p>\\n * A simple Message Driven Bean that asynchronously receives and processes the messages that are sent to the topic.\\n * </p>\\n *\\n * @author Serge Pagop (spagop@redhat.com)\\n */\\n@MessageDriven(name = \"HelloWorldQTopicMDB\", activationConfig = {\\n        @ActivationConfigProperty(propertyName = \"destinationLookup\", propertyValue = \"topic/HELLOWORLDMDBTopic\"),\\n        @ActivationConfigProperty(propertyName = \"destinationType\", propertyValue = \"javax.jms.Topic\"),\\n        @ActivationConfigProperty(propertyName = \"acknowledgeMode\", propertyValue = \"Auto-acknowledge\")})\\npublic class HelloWorldTopicMDB implements MessageListener {\\n\\n    private static final Logger LOGGER = Logger.getLogger(HelloWorldTopicMDB.class.toString());\\n\\n    /**\\n     * @see MessageListener#onMessage(Message)\\n     */\\n    public void onMessage(Message rcvMessage) {\\n        TextMessage msg = null;\\n        try {\\n            if (rcvMessage instanceof TextMessage) {\\n                msg = (TextMessage) rcvMessage;\\n                LOGGER.info(\"Received Message from topic: \" + msg.getText());\\n            } else {\\n                LOGGER.warning(\"Message of wrong type: \" + rcvMessage.getClass().getName());\\n            }\\n        } catch (JMSException e) {\\n            throw new RuntimeException(e);\\n        }\\n    }\\n}\\n', metadata={'path': 'src/main/java/org/jboss/as/quickstarts/mdb/HelloWorldTopicMDB.java', 'sha': 'acd7de34f25785bb5c8d9a8cb9068e71ea9e0a4b', 'source': 'https://api.github.com/jihed/helloworld-mdb/blob/main/src/main/java/org/jboss/as/quickstarts/mdb/HelloWorldTopicMDB.java'})]\n"
     ]
    }
   ],
   "source": [
    "print(sample_source_code)"
   ]
  },
  {
   "cell_type": "code",
   "execution_count": null,
   "id": "74306f0b-524d-402d-820e-81f7c8493203",
   "metadata": {},
   "outputs": [],
   "source": [
    "!pip install -qU langchain-text-splitters"
   ]
  },
  {
   "cell_type": "code",
   "execution_count": null,
   "id": "cf743496-98f8-401f-945b-332a479fd7c5",
   "metadata": {},
   "outputs": [],
   "source": [
    "# Full list of supported languages\n",
    "[e.value for e in Language]"
   ]
  },
  {
   "cell_type": "code",
   "execution_count": null,
   "id": "fd713d6b-1abf-4075-9d54-dda1955e7666",
   "metadata": {},
   "outputs": [],
   "source": [
    "RecursiveCharacterTextSplitter.get_separators_for_language(Language.JAVA)"
   ]
  },
  {
   "cell_type": "markdown",
   "id": "e90b93e9-5e18-40f5-8732-2c078f54eb95",
   "metadata": {},
   "source": [
    "# Stuff Documents\n",
    "\n",
    "This is an advanced prompt, where we ask the LLM:\n",
    "1 - ask to generate migration plan with code snippet on markdown file.\n",
    "\n",
    "> Todo: Add pom.xml to the model to provide request."
   ]
  },
  {
   "cell_type": "code",
   "execution_count": 112,
   "id": "a3385463-05f9-4e63-a40e-d6b421c26451",
   "metadata": {},
   "outputs": [
    {
     "name": "stdout",
     "output_type": "stream",
     "text": [
      "\n",
      "\n",
      "Sure, here's a step-by-step guide in Markdown format to help you migrate your Java EE application to Quarkus. Please note that this is a general guide and the exact steps might vary depending on the specifics of your application.\n",
      "\n",
      "```markdown\n",
      "# Migrating Java EE Applications to Quarkus\n",
      "\n",
      "This guide provides a step-by-step process to migrate a Java EE application to Quarkus.\n",
      "\n",
      "## Prerequisites\n",
      "\n",
      "- Basic understanding of Java EE and Quarkus\n",
      "- Java Development Kit (JDK) installed on your system\n",
      "- Apache Maven or Gradle for building your application\n",
      "\n",
      "## Step 1: Analyze Your Application\n",
      "\n",
      "Before starting the migration process, analyze your application to understand its architecture, dependencies, and functionalities. This will help you identify the components that need to be migrated and the potential challenges you might face.\n",
      "\n",
      "## Step 2: Set Up Quarkus\n",
      "\n",
      "Set up a new Quarkus project using the Quarkus Maven or Gradle plugin. You can also use the Quarkus code generator to create your project.\n",
      "\n",
      "## Step 3: Migrate Java EE Components\n",
      "\n",
      "Start migrating your Java EE components to Quarkus. Here's a general guide:\n",
      "\n",
      "- **JAX-RS**: Quarkus supports JAX-RS with RESTEasy Reactive. You can directly use your JAX-RS resources in Quarkus.\n",
      "- **CDI**: Quarkus uses Arc as its CDI implementation. You can use `@Inject` for dependency injection.\n",
      "- **JPA**: Quarkus supports JPA with Hibernate ORM and Panache. You can use your JPA entities directly.\n",
      "- **JMS**: Quarkus supports JMS with Apache Artemis. However, the `@MessageDriven` annotation is not supported. You can use the `@Incoming` annotation on a method to consume messages.\n",
      "\n",
      "## Step 4: Update Configuration\n",
      "\n",
      "Update your configuration according to Quarkus. Quarkus uses MicroProfile Config for configuration. You can use `application.properties` for configuration.\n",
      "\n",
      "## Step 5: Test Your Application\n",
      "\n",
      "After migrating your components and updating the configuration, test your application to ensure everything works as expected.\n",
      "\n",
      "## Step 6: Optimize Your Application\n",
      "\n",
      "Once your application is working, optimize it for Quarkus. This might involve using Quarkus-specific features and libraries.\n",
      "\n",
      "## Example: Migrating a Message-Driven Bean\n",
      "\n",
      "Here's an example of how you can migrate a message-driven bean to Quarkus:\n",
      "\n",
      "```java\n",
      "@Incoming(\"topic/HELLOWORLDMDBTopic\")\n",
      "public void onMessage(Message rcvMessage) {\n",
      "    // Your code here\n",
      "}\n",
      "```\n",
      "\n",
      "In this example, the `@MessageDriven` annotation is replaced with the `@Incoming` annotation.\n",
      "\n",
      "## Conclusion\n",
      "\n",
      "Migrating a Java EE application to Quarkus involves several steps and requires a good understanding of both Java EE and Quarkus. This guide provides a general overview of the process. For more detailed information, please refer to the Quarkus documentation.\n",
      "```\n"
     ]
    }
   ],
   "source": [
    "from langchain_core.documents import Document\n",
    "from langchain.chains.combine_documents import create_stuff_documents_chain\n",
    "\n",
    "prompt = ChatPromptTemplate.from_messages(\n",
    "    [(\"system\", \"Generate for me a step by step guide in mardown format to migrate all the documents in context written in enterprise Java EE source code to Quarkus:\\n\\n{context}\")]\n",
    ")\n",
    "chain = create_stuff_documents_chain(llm, prompt)\n",
    "#print(print(documents))\n",
    "\n",
    "response = chain.invoke({\"context\": sample_source_code})\n",
    "\n",
    "print(response, end= '\\n')"
   ]
  },
  {
   "cell_type": "markdown",
   "id": "e178a91d-7748-43a1-98fc-7c69fcd3f307",
   "metadata": {},
   "source": [
    "# Refine Document\n",
    "This is an advanced prompt, where we ask the LLM:\n",
    "1.Build a Migration Plan from Java EE to Quarkus\n",
    "2.Based on that plan, we ask to generate Quarkus code.\n",
    "\n",
    "> Todo: Add pom.xml to the model to provide request."
   ]
  },
  {
   "cell_type": "code",
   "execution_count": 132,
   "id": "2acaea25-ea93-4f35-87d8-aa77a6c1d6ed",
   "metadata": {},
   "outputs": [],
   "source": [
    "from langchain.chains import RefineDocumentsChain, LLMChain\n",
    "from langchain_core.prompts import PromptTemplate\n",
    "\n",
    "# This controls how each document will be formatted. Specifically,\n",
    "# it will be passed to `format_document` - see that function for more\n",
    "# details.\n",
    "document_prompt = PromptTemplate(\n",
    "    input_variables=[\"page_content\"],\n",
    "     template=\"{page_content}\"\n",
    ")\n",
    "document_variable_name = \"context\"\n",
    "\n",
    "# The prompt here should take as an input variable the\n",
    "# `document_variable_name`\n",
    "prompt = PromptTemplate.from_template(\n",
    "    \"[INST] Build a migration plan from Java Entreprise EE to Quarkus for this content: {context} [/INST]\"\n",
    ")\n",
    "initial_llm_chain = LLMChain(llm=llm, prompt=prompt)\n",
    "initial_response_name = \"prev_response\"\n",
    "# The prompt here should take as an input variable the\n",
    "# `document_variable_name` as well as `initial_response_name`\n",
    "prompt_refine = PromptTemplate.from_template(\n",
    "    \"[INST] Here's your Migration Plan: {prev_response}. Now generate a quarkus code for: {context} [/INST]\"\n",
    ")\n",
    "refine_llm_chain = LLMChain(llm=llm, prompt=prompt_refine)\n",
    "chain = RefineDocumentsChain(\n",
    "    initial_llm_chain=initial_llm_chain,\n",
    "    refine_llm_chain=refine_llm_chain,\n",
    "    document_prompt=document_prompt,\n",
    "    document_variable_name=document_variable_name,\n",
    "    initial_response_name=initial_response_name,\n",
    ")\n",
    "\n",
    "\n",
    "\n",
    "response = chain.invoke(sample_source_code)\n",
    "\n"
   ]
  },
  {
   "cell_type": "code",
   "execution_count": 131,
   "id": "5c99fcf3-fc93-42aa-bee2-9b222b82cf27",
   "metadata": {},
   "outputs": [],
   "source": [
    "#print(response.get('output_text'), end= '\\n')\n",
    "type(response.get('output_text'))\n",
    "\n",
    "with open(\"output.txt\", \"w\") as f:\n",
    "    f.write(response.get('output_text'))"
   ]
  },
  {
   "cell_type": "code",
   "execution_count": null,
   "id": "7c601032-d6b9-4bb4-b107-2c531888eff5",
   "metadata": {},
   "outputs": [],
   "source": []
  }
 ],
 "metadata": {
  "kernelspec": {
   "display_name": "Python 3 (ipykernel)",
   "language": "python",
   "name": "python3"
  },
  "language_info": {
   "codemirror_mode": {
    "name": "ipython",
    "version": 3
   },
   "file_extension": ".py",
   "mimetype": "text/x-python",
   "name": "python",
   "nbconvert_exporter": "python",
   "pygments_lexer": "ipython3",
   "version": "3.10.13"
  }
 },
 "nbformat": 4,
 "nbformat_minor": 5
}
